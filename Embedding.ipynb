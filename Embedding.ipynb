{
 "cells": [
  {
   "cell_type": "code",
   "execution_count": null,
   "metadata": {
    "collapsed": true
   },
   "outputs": [],
   "source": [
    "import numpy as np\n",
    "import pandas as pd\n",
    "import logging as log\n",
    "import plotly\n",
    "from plotly.offline import init_notebook_mode, iplot\n",
    "init_notebook_mode(connected=True)\n",
    "plotly.plotly.sign_in('spersad', 'oNkuP1yzbpN734Ag8M9P')\n",
    "import plotly.graph_objs as go\n",
    "\n",
    "log.getLogger().setLevel(log.INFO)"
   ]
  },
  {
   "cell_type": "code",
   "execution_count": null,
   "metadata": {
    "collapsed": true
   },
   "outputs": [],
   "source": [
    "def performTSNE(X, Y, num_examples=2000, perp=30, metric='euclidean'):\n",
    "    from sklearn.manifold import TSNE\n",
    "    model = TSNE(n_components=2, perplexity = perp, random_state=0, metric=metric) # fit into 2D space\n",
    "    log.info('Defined model')\n",
    "    if metric !='precomputed':\n",
    "        X = X[:num_examples]\n",
    "        Y = Y[:num_examples]\n",
    "    log.info('Performing TSNE on data with shape {0}'.format(X.shape))        \n",
    "    embeddedX = model.fit_transform(X)\n",
    "    log.info('Created embedding')\n",
    "\n",
    "    # Scatter plot to visualize embedded data\n",
    "    # Create a trace\n",
    "    trace = go.Scatter(\n",
    "        x = embeddedX[:,0],\n",
    "        y = embeddedX[:,1],\n",
    "        mode = 'markers',\n",
    "        marker=dict(\n",
    "            size='2',\n",
    "            color = Y, # color points by label they belong to\n",
    "            colorscale= [[0, '#dd2c4f'], [1, '#3d6fcc']],\n",
    "        ),\n",
    "        text = Y#[str(x) for x in X]\n",
    "    )\n",
    "\n",
    "    data = [trace]\n",
    "    \n",
    "    layout = go.Layout(\n",
    "        title='Embedding of Clusters in 2D Space',\n",
    "    )\n",
    "\n",
    "    fig = go.Figure(data=data, layout=layout)\n",
    "    iplot(fig, filename='t-SNE-embedding')\n",
    "    \n",
    "    log.info('Plotted data')\n",
    "    \n"
   ]
  },
  {
   "cell_type": "code",
   "execution_count": 1,
   "metadata": {
    "collapsed": true
   },
   "outputs": [],
   "source": [
    "def performMDS(X, Y, num_examples=2000,metric='euclidean'):\n",
    "    from sklearn.manifold import MDS\n",
    "    model = MDS(n_components=2, max_iter=3000, dissimilarity=metric)\n",
    "    log.info('Defined model')\n",
    "    if metric !='precomputed':\n",
    "        X = X[:num_examples]\n",
    "        Y = Y[:num_examples]\n",
    "    log.info('Performing MDS on data with shape {0}'.format(X.shape))         \n",
    "    embeddedX = model.fit_transform(X)\n",
    "    log.info('Created embedding')\n",
    "\n",
    "    # Scatter plot to visualize embedded data\n",
    "    # Create a trace\n",
    "    trace = go.Scatter(\n",
    "        x = embeddedX[:,0],\n",
    "        y = embeddedX[:,1],\n",
    "        mode = 'markers',\n",
    "        marker=dict(\n",
    "            size='5',\n",
    "            color = Y, # color points by label they belong to\n",
    "            colorscale= [[0, '#dd2c4f'], [1, '#3d6fcc']],\n",
    "        ),\n",
    "        text = [str(x) for x in X]\n",
    "    )\n",
    "\n",
    "    data = [trace]\n",
    "    \n",
    "    layout = go.Layout(\n",
    "        title='MDS Embedding of Clusters in 2D Space',\n",
    "    )\n",
    "\n",
    "    fig = go.Figure(data=data, layout=layout)\n",
    "    iplot(fig, filename='MDS-embedding')\n",
    "    \n",
    "    log.info('Plotted data')"
   ]
  },
  {
   "cell_type": "code",
   "execution_count": null,
   "metadata": {
    "collapsed": true
   },
   "outputs": [],
   "source": [
    "# Compute distance matrix for X_real data\n",
    "def first_order_dist(X):\n",
    "    dist = np.zeros((X.shape[0],X.shape[0]))\n",
    "    log.info('Computing first order distance matrix with shape {0}'.format(dist.shape))\n",
    "    for i in range(len(X)):\n",
    "        for j in range(i, len(X)):\n",
    "            row1 = X[i]\n",
    "            row2 = X[j]\n",
    "            d = np.nansum(np.abs(row1-row2))\n",
    "            dist[i,j] = d\n",
    "            dist[j,i] = d\n",
    "    return dist"
   ]
  },
  {
   "cell_type": "code",
   "execution_count": null,
   "metadata": {
    "collapsed": true
   },
   "outputs": [],
   "source": [
    "def second_order_distance(X, k=5):\n",
    "    ''' Given a set of reads, compute the second order distance matrix,\n",
    "        where the distance between reads i, j is the d(i,j) + alpha Sum(d(i,k_j)+d(k_i,j))\n",
    "        and k_j is the k-NN neighborhood of j and k_i is the k-NN neighborhood of i'''\n",
    "    \n",
    "    ALPHA=1\n",
    "    def mydist(x,y):\n",
    "        return np.nansum(np.abs(x-y))\n",
    "    \n",
    "    from sklearn.neighbors import NearestNeighbors as NN\n",
    "    nbrs  = NN().fit(X) #(algorithm='ball_tree', metric=mydist\n",
    "    dists, indices = nbrs.kneighbors(n_neighbors=k)\n",
    "    print(dists.shape)\n",
    "    indices = indices[:,1:k] # Each read is not in its own nearest neighborhood\n",
    "    \n",
    "    second_dist = np.zeros((X.shape[0],X.shape[0]))\n",
    "    print(second_dist.shape)\n",
    "    for i in range(len(X)):\n",
    "        for j in range(i, len(X)):\n",
    "            row1 = X[i]\n",
    "            row2 = X[j]\n",
    "            d = np.nansum(np.abs(X[i]-X[j])) + ALPHA*(np.nansum(np.abs(X[indices[i]] - X[j])) + np.nansum(np.abs(X[indices[j]] - X[i])))\n",
    "            second_dist[i,j] = d\n",
    "            second_dist[j,i] = d\n",
    "    return second_dist\n",
    "\n",
    "dists = second_order_distance(X_real, k=5)"
   ]
  }
 ],
 "metadata": {
  "kernelspec": {
   "display_name": "Python 3",
   "language": "python",
   "name": "python3"
  },
  "language_info": {
   "codemirror_mode": {
    "name": "ipython",
    "version": 3
   },
   "file_extension": ".py",
   "mimetype": "text/x-python",
   "name": "python",
   "nbconvert_exporter": "python",
   "pygments_lexer": "ipython3",
   "version": "3.6.0"
  }
 },
 "nbformat": 4,
 "nbformat_minor": 2
}
