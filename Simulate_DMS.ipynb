{
 "cells": [
  {
   "cell_type": "code",
   "execution_count": 1,
   "metadata": {
    "collapsed": false
   },
   "outputs": [
    {
     "data": {
      "text/html": [
       "<script>requirejs.config({paths: { 'plotly': ['https://cdn.plot.ly/plotly-latest.min']},});if(!window.Plotly) {{require(['plotly'],function(plotly) {window.Plotly=plotly;});}}</script>"
      ],
      "text/plain": [
       "<IPython.core.display.HTML object>"
      ]
     },
     "metadata": {},
     "output_type": "display_data"
    }
   ],
   "source": [
    "import numpy as np\n",
    "import pandas as pd\n",
    "import logging as log\n",
    "import plotly\n",
    "from plotly.offline import init_notebook_mode, iplot\n",
    "init_notebook_mode(connected=True)\n",
    "plotly.plotly.sign_in('spersad', 'oNkuP1yzbpN734Ag8M9P')\n",
    "import plotly.graph_objs as go\n",
    "\n",
    "log.getLogger().setLevel(log.INFO)"
   ]
  },
  {
   "cell_type": "markdown",
   "metadata": {},
   "source": [
    "## Simulate DMS modification on a given molecule\n",
    "\n",
    "TODO: Detail assumptions in simulating DMS modification"
   ]
  },
  {
   "cell_type": "code",
   "execution_count": 11,
   "metadata": {
    "collapsed": true
   },
   "outputs": [],
   "source": [
    "def simulate_modification(structure, sequence, DMS_prob, n_molecules):\n",
    "    '''\n",
    "    Simulate the DMS modification to a given RNA structure, producing the resulting DMS modified bases\n",
    "    @param: structure- dot/bracket notation indication an open/closed base\n",
    "    @param: sequence - nucleotide sequence corresponding to the given RNA structure\n",
    "    @param: DMS_prob - probability of mutating an open (A/C) nucleotide\n",
    "    @param: n_molecules - number of molecules to simulate\n",
    "    \n",
    "    @return: molecules - an array of DMS and RT'ed molecules, eg ref=ATCG, mol=ATGG\n",
    "    @return: reads - an array of molecules where 0 if no mutation, 1 if mutated, eg 0010\n",
    "    @return: basevectors - an array of molecules where 0 if no mutation, otherwise the inserted base is present, eg 00G0\n",
    "    '''\n",
    "    \n",
    "    structure=list(structure)\n",
    "    sequence=list(sequence)\n",
    "    assert len(structure)==len(sequence), 'Sequence and structure must have the same length'\n",
    "    \n",
    "    molecules = []\n",
    "    reads = []\n",
    "    basevectors = []\n",
    "    for mol_num in range(n_molecules):\n",
    "        molecule = []\n",
    "        read = []\n",
    "        basevector = []\n",
    "        for (i,pos) in enumerate(structure):\n",
    "            base = sequence[i]\n",
    "            if base in ['A','C'] and pos == '.': #pos=='.' indicates the base is open \n",
    "                # For a candidate base, it is DMS modified with a given probability\n",
    "                if np.random.random()<DMS_prob:\n",
    "                    mutation = mutate_base(base)\n",
    "                    molecule.append(mutation)\n",
    "                    if mutation == base:  \n",
    "                        # If mutated base is the same as the original base, we cannot detect it.\n",
    "                        read.append(0)\n",
    "                        basevector.append('0')\n",
    "                    else: \n",
    "                        read.append(1)\n",
    "                        basevector.append(base)\n",
    "                else:\n",
    "                    molecule.append(base)\n",
    "                    read.append(0)\n",
    "                    basevector.append('0')\n",
    "            else:\n",
    "                molecule.append(base)\n",
    "                read.append(0)\n",
    "                basevector.append('0')\n",
    "        molecules.append(molecule)\n",
    "        reads.append(read)\n",
    "        basevectors.append(''.join(basevector))\n",
    "    \n",
    "    molecules = np.array(molecules)\n",
    "    reads = np.array(reads)\n",
    "    \n",
    "    return molecules, reads, np.array(basevectors)\n",
    "                \n",
    "\n",
    "def mutate_base(original):\n",
    "    ''' \n",
    "    Mutate a DMS modified base according to RT enzyme\n",
    "    @param: original - original base\n",
    "    @return: choice - modified base\n",
    "    '''\n",
    "    \n",
    "    # Naive mutation distribution, estimate better from data \n",
    "                # A      T     C    G\n",
    "    mut_dist = [[0.25, 0.25, 0.25, 0.25], #A\n",
    "                [0.25, 0.25, 0.25, 0.25]] #C\n",
    "    \n",
    "    bases = {'A':0, 'C':1}\n",
    "    prob_dist = mut_dist[bases[original]]\n",
    "    choice = np.random.choice(['A','T','C','G'], p=prob_dist)\n",
    "    return choice\n",
    "\n",
    "def illegal_reads(reads):\n",
    "    '''\n",
    "    Compute the proportion of reads which are illegal (have two mutations within distance 3 of each other)\n",
    "    @param: reads - array of n bitvectors (1 is mut, 0 is WT)\n",
    "    @return: illegal - array of length n, where illegal[i] is 1 if read i is illegal, otherwise 0\n",
    "    '''\n",
    "    def check_read(read):\n",
    "        dist_3 = read+np.concatenate(([0],read[:-1]))+np.concatenate(([0,0],read[:-2]))\n",
    "        if 2 in dist_3:\n",
    "            return 1\n",
    "        return 0\n",
    "    illegal = np.apply_along_axis(check_read,1,reads)\n",
    "    return illegal"
   ]
  },
  {
   "cell_type": "markdown",
   "metadata": {},
   "source": [
    "## Create bitvector\n",
    "\n",
    "Wrapper for simulating multiple structures and creating bitvector files for each."
   ]
  },
  {
   "cell_type": "code",
   "execution_count": 58,
   "metadata": {
    "collapsed": true
   },
   "outputs": [],
   "source": [
    "def simulate_reads(sequence, structures, struc_proportions, DMS_prob, n_reads, fname='TestFile'):\n",
    "    '''\n",
    "    Simulates the DMS modification of structures and returns a bitvector and simulated molecules DataFrame. \n",
    "    \n",
    "    In the case of producing paired end reads, generates one bitvector file and two fasta files (one for each direction).\n",
    "\n",
    "    Fasta file format example:\n",
    "    >SRR041655.1 HWI-EAS284_61BKE:6:1:2:1735/1\n",
    "    NAAATCAGACAAATCTCCGTTATTGGTATATACTTTGGGAGTGTTATGGAATTGCACACCCATTTCGAACATGAAGCCAATTCGTTTCTTAGGAATCGCT.\n",
    "    \n",
    "    @param: sequence - nucleotide sequence corresponding to the given RNA structure\n",
    "    @param: structures - list of strings where each string is a dot bracket representation of an RNA structure. All structures must match the length of the sequence\n",
    "    @param: struc_proportions - the proportions of each structure in the final bitvector file\n",
    "    @param: DMS_prob - probability of mutating an open (A/C) nucleotide\n",
    "    @param: n_reads - number of reads to simulate\n",
    "    @param: fname - name to save bitvector file as\n",
    "    \n",
    "    @output: reads - DataFrame containing 'Query_name','Bases_vector','Molecueles',N_occur','N_mutations','N_deletions','Coverage','Reference','Index'\n",
    "    \n",
    "    @return: None. \n",
    "    '''\n",
    "    read_length = len(sequence)\n",
    "    assert len(structures)==len(struc_proportions),'The number of structures and the number of mixing proportions is not equal'\n",
    "    #TODO:\n",
    "    assert True,'The lengths of all structures must match the length of the sequence specified.'\n",
    "    struc_proportions = np.array(struc_proportions)\n",
    "    if sum(struc_proportions)!=1:\n",
    "        print('WARNING: The structure proportions do not sum to 1. Normalizing proportions.')\n",
    "        struc_proportions /= sum(structure_proportions)\n",
    "    \n",
    "    for i,struc in enumerate(structures):\n",
    "        print('Simulating structure {0} of {1}'.format(i+1, len(structures)))\n",
    "        prop = struc_proportions[i]\n",
    "        mols, reads, basevectors = simulate_modification(struc, sequence, DMS_prob, int(n_reads*prop))\n",
    "        illegal = illegal_reads(reads)\n",
    "        percent = 100*np.sum(illegal)/len(illegal)\n",
    "        print('{0} illegal reads: {1}%'.format(np.sum(illegal),percent))\n",
    "        good_reads = reads[illegal==0]\n",
    "        good_bases = basevectors[illegal==0]\n",
    "        good_molecules = mols[illegal==0]\n",
    "        \n",
    "        num_reads = len(good_bases)\n",
    "        (good_bases, idx, counts) = np.unique(good_bases, return_index=True, return_counts=True)\n",
    "        num_unique = len(good_bases)\n",
    "        good_molecules = good_molecules[[idx]]\n",
    "        good_molecules = [''.join(mol) for mol in good_molecules]\n",
    "        \n",
    "        df_dict = {'Query_name':list(range(num_unique)),'Bases_vector':good_bases,'Molecules':good_molecules,'N_occur':counts, \n",
    "                   'N_mutations':[0]*num_unique ,'N_deletions':[0]*num_unique ,'Coverage':[read_length]*num_unique ,\n",
    "                   'Reference':['struc_{0}'.format(i+1)]*num_unique, 'Index':['']*num_unique}\n",
    "        pd.DataFrame(df_dict).to_csv('{0}_{1}_reads.txt'.format(fname,i+1),sep='\\t',index=False, columns=['Query_name','Bases_vector','Molecules','N_occur','N_mutations','N_deletions','Coverage','Reference','Index'])\n",
    "        \n",
    "    print('Reads generated.')\n",
    "    return good_molecules, idx"
   ]
  },
  {
   "cell_type": "code",
   "execution_count": 59,
   "metadata": {},
   "outputs": [],
   "source": [
    "struc = '((((.(((((((((((.(((((...((((......)))))))))))))))))))))))).((((.....(((((.(((..(((.(((..((((((....((....(((((((((((.(.......((((((...)))))).(((....(((.......))).....)))..................(((.....)))..................................(((.(((....((((.(.(((((.........)))))...).))))..))).))).(((((....))))).....(((..(((((....)))))..))).).)))))))))))...))...))))))....))).)))..))).........(((....)))((((.(((((((((....................................................................)))))))))................((((((...........((((............))))...............................................((((((((((((((.((((........)))).................(((((.....................................)))))...((.....)).((((((...((.........))..)))))).............................((((....((((...............................(((((((((.................(((.....))).........)))))))))...........((....)).)))))))).......................))))))).))))))).....)))))).................)))).....))))).....))))....((((.......)))).'\n",
    "seq= 'GGGTCTCTCTGGTTAGACCAGATCTGAGCCTGGGAGCTCTCTGGCTAACTAGGGAACCCACTGCTTAAGCCTCAATAAAGCTTGCCTTGAGTGCTCAAAGTAGTGTGTGCCCGTCTGTTGTGTGACTCTGGTAACTAGAGATCCCTCAGACCCTTTTAGTCAGTGTGGAAAATCTCTAGCAGTGGCGCCCGAACAGGGACTTGAAAGCGAAAGTAAAGCCAGAGGAGATCTCTCGACGCAGGACTCGGCTTGCTGAAGCGCGCACGGCAAGAGGCGAGGGGCGGCGACTGGTGAGTACGCCAAAAATTTTGACTAGCGGAGGCTAGAAGGAGAGAGATGGGTGCGAGAGCGTCGGTATTAAGCGGGGGAGAATTAGATAAATGGGAAAAAATTCGGTTAAGGCCAGGGGGAAAGAAACAATATAAACTAAAACATATAGTATGGGCAAGCAGGGAGCTAGAACGATTCGCAGTTAATCCTGGCCTTTTAGAGACATCAGAAGGCTGTAGACAAATACTGGGACAGCTACAACCATCCCTTCAGACAGGATCAGAAGAACTTAGATCATTATATAATACAATAGCAGTCCTCTATTGTGTGCATCAAAGGATAGATGTAAAAGACACCAAGGAAGCCTTAGATAAGATAGAGGAAGAGCAAAACAAAAGTAAGAAAAAGGCACAGCAAGCAGCAGCTGACACAGGAAACAACAGCCAGGTCAGCCAAAATTACCCTATAGTGCAGAACCTCCAGGGGCAAATGGTACATCAGGCCATATCACCTAGAACTTTAAATGCATGGGTAAAAGTAGTAGAAGAGAAGGCTTTCAGCCCAGAAGTAATACCCATGTTTTCAGCATTATCAGAAGGAGCCACCCCACAAGATTTAAATACCATGCTAAACACAGTGGGGGGACATCAAGCAGCCATGCAAATGTTAAAAGAGACCATCAATGAGGAAGCTGCAGAATGGGATAGATTGCATCCA'\n",
    "m,i = simulate_reads(seq, [struc], [1], 0.1, 10000, fname='LongTestFile')"
   ]
  }
 ],
 "metadata": {
  "kernelspec": {
   "display_name": "Python 3",
   "language": "python",
   "name": "python3"
  },
  "language_info": {
   "codemirror_mode": {
    "name": "ipython",
    "version": 3
   },
   "file_extension": ".py",
   "mimetype": "text/x-python",
   "name": "python",
   "nbconvert_exporter": "python",
   "pygments_lexer": "ipython3",
   "version": "3.6.0"
  }
 },
 "nbformat": 4,
 "nbformat_minor": 2
}
