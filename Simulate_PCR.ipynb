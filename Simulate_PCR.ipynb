{
 "cells": [
  {
   "cell_type": "code",
   "execution_count": 17,
   "metadata": {
    "collapsed": true
   },
   "outputs": [],
   "source": [
    "import numpy as np"
   ]
  },
  {
   "cell_type": "markdown",
   "metadata": {},
   "source": [
    "## Simulate PCR\n",
    "\n",
    "We begin with approximately 100-500 thousand DMS modified molecules. Right now, we can DMS modify molecules of length 1000-2000nt. \n",
    "\n",
    "We perform PCR to produce approximately 100 billion molecules (from the original 100-500). Currently looking for sophisticated tools for simulating the PCR process, but in the meanwhile, using a naive sample and duplicate algorithm.\n",
    "\n"
   ]
  },
  {
   "cell_type": "code",
   "execution_count": 24,
   "metadata": {
    "collapsed": false
   },
   "outputs": [
    {
     "name": "stdout",
     "output_type": "stream",
     "text": [
      "1\n",
      "2\n",
      "3\n",
      "4\n",
      "5\n",
      "6\n",
      "7\n",
      "8\n",
      "9\n",
      "10\n",
      "11\n",
      "12\n",
      "13\n",
      "14\n",
      "15\n",
      "16\n",
      "17\n",
      "18\n",
      "19\n",
      "20\n",
      "21\n",
      "22\n",
      "23\n",
      "24\n",
      "25\n",
      "26\n",
      "27\n",
      "28\n",
      "29\n",
      "30\n",
      "31\n",
      "32\n",
      "33\n",
      "34\n",
      "35\n",
      "36\n",
      "37\n",
      "38\n",
      "39\n",
      "40\n",
      "41\n",
      "42\n",
      "43\n",
      "44\n",
      "45\n",
      "46\n",
      "47\n",
      "48\n",
      "49\n",
      "50\n",
      "51\n",
      "52\n",
      "53\n",
      "54\n",
      "55\n",
      "[0, 1, 2, 3, 4, 5, 6, 7, 8, 9, 10, 11, 12, 13, 14, 15, 16, 17, 18, 19, 20, 21, 22, 23, 24, 25, 26, 27, 28, 29, 30, 31, 32, 33, 34, 35, 36, 37, 38, 39, 40, 41, 42, 43, 44, 29, 37, 7, 3, 44, 41, 29, 17, 16, 9, 7, 37, 19, 19, 37, 30, 32, 19, 42, 21, 37, 42, 11, 11, 7, 37, 37, 16, 39, 5, 21, 44, 21, 9, 42, 26, 28, 27, 30, 43, 11, 41, 11, 6, 7, 21, 4, 7, 42, 6, 30, 5, 16, 30, 4]\n"
     ]
    }
   ],
   "source": [
    "def naive_PCR(molecules, max_molecules):\n",
    "    '''\n",
    "    Naively simulate PCR by randomly sampling a molecule from the list of molecules and duplicating this molecule.\n",
    "    Repeat this naive amplification until we have the desired number of molecules.\n",
    "    @param: molecules - numpy array of molecules (each molecule is a list)\n",
    "    @param: max_molecules - desired total number of molecules after PCR\n",
    "    \n",
    "    @param: molecules -  a numpy array of all the molecules after PCR'''\n",
    "    \n",
    "\n",
    "    indices = [i for i in range(len(molecules))]\n",
    "    while len(indices)<max_molecules:\n",
    "        dup = np.random.choice(indices)\n",
    "        indices.append(dup)\n",
    "\n",
    "    indices.sort()\n",
    "    return molecules[indices]"
   ]
  },
  {
   "cell_type": "code",
   "execution_count": 25,
   "metadata": {
    "collapsed": false
   },
   "outputs": [],
   "source": [
    "indices.sort()"
   ]
  },
  {
   "cell_type": "code",
   "execution_count": 27,
   "metadata": {
    "collapsed": false
   },
   "outputs": [
    {
     "data": {
      "text/plain": [
       "array([ 0.78719312,  0.87596597,  0.87861641,  0.72939428,  0.72939428,\n",
       "        0.83512515,  0.83512515,  0.83512515,  0.75222423,  0.75222423,\n",
       "        0.75222423,  0.20104062,  0.20104062,  0.20104062,  0.30549686,\n",
       "        0.30549686,  0.30549686,  0.30549686,  0.30549686,  0.30549686,\n",
       "        0.79100941,  0.53529002,  0.53529002,  0.53529002,  0.7327094 ,\n",
       "        0.25296627,  0.25296627,  0.25296627,  0.25296627,  0.25296627,\n",
       "        0.89737663,  0.10386767,  0.64234535,  0.98670725,  0.70794128,\n",
       "        0.70794128,  0.70794128,  0.70794128,  0.89129383,  0.89129383,\n",
       "        0.22480221,  0.7663735 ,  0.7663735 ,  0.7663735 ,  0.7663735 ,\n",
       "        0.77303575,  0.83417898,  0.83417898,  0.83417898,  0.83417898,\n",
       "        0.83417898,  0.01240468,  0.68502602,  0.41472956,  0.46782353,\n",
       "        0.44595178,  0.44595178,  0.44899798,  0.44899798,  0.08864527,\n",
       "        0.08864527,  0.39176231,  0.39176231,  0.39176231,  0.44781307,\n",
       "        0.44781307,  0.44781307,  0.44781307,  0.44781307,  0.57405658,\n",
       "        0.11306749,  0.11306749,  0.92590227,  0.46400118,  0.61649517,\n",
       "        0.70729203,  0.16452509,  0.16452509,  0.16452509,  0.16452509,\n",
       "        0.16452509,  0.16452509,  0.16452509,  0.41114752,  0.42151108,\n",
       "        0.42151108,  0.78533647,  0.83489616,  0.83489616,  0.83489616,\n",
       "        0.8673198 ,  0.8673198 ,  0.8673198 ,  0.8673198 ,  0.8673198 ,\n",
       "        0.16410871,  0.16410871,  0.11567372,  0.11567372,  0.11567372])"
      ]
     },
     "execution_count": 27,
     "metadata": {},
     "output_type": "execute_result"
    }
   ],
   "source": [
    "molecules[indices]"
   ]
  },
  {
   "cell_type": "code",
   "execution_count": 28,
   "metadata": {
    "collapsed": false
   },
   "outputs": [
    {
     "data": {
      "text/plain": [
       "[0,\n",
       " 1,\n",
       " 2,\n",
       " 3,\n",
       " 3,\n",
       " 4,\n",
       " 4,\n",
       " 4,\n",
       " 5,\n",
       " 5,\n",
       " 5,\n",
       " 6,\n",
       " 6,\n",
       " 6,\n",
       " 7,\n",
       " 7,\n",
       " 7,\n",
       " 7,\n",
       " 7,\n",
       " 7,\n",
       " 8,\n",
       " 9,\n",
       " 9,\n",
       " 9,\n",
       " 10,\n",
       " 11,\n",
       " 11,\n",
       " 11,\n",
       " 11,\n",
       " 11,\n",
       " 12,\n",
       " 13,\n",
       " 14,\n",
       " 15,\n",
       " 16,\n",
       " 16,\n",
       " 16,\n",
       " 16,\n",
       " 17,\n",
       " 17,\n",
       " 18,\n",
       " 19,\n",
       " 19,\n",
       " 19,\n",
       " 19,\n",
       " 20,\n",
       " 21,\n",
       " 21,\n",
       " 21,\n",
       " 21,\n",
       " 21,\n",
       " 22,\n",
       " 23,\n",
       " 24,\n",
       " 25,\n",
       " 26,\n",
       " 26,\n",
       " 27,\n",
       " 27,\n",
       " 28,\n",
       " 28,\n",
       " 29,\n",
       " 29,\n",
       " 29,\n",
       " 30,\n",
       " 30,\n",
       " 30,\n",
       " 30,\n",
       " 30,\n",
       " 31,\n",
       " 32,\n",
       " 32,\n",
       " 33,\n",
       " 34,\n",
       " 35,\n",
       " 36,\n",
       " 37,\n",
       " 37,\n",
       " 37,\n",
       " 37,\n",
       " 37,\n",
       " 37,\n",
       " 37,\n",
       " 38,\n",
       " 39,\n",
       " 39,\n",
       " 40,\n",
       " 41,\n",
       " 41,\n",
       " 41,\n",
       " 42,\n",
       " 42,\n",
       " 42,\n",
       " 42,\n",
       " 42,\n",
       " 43,\n",
       " 43,\n",
       " 44,\n",
       " 44,\n",
       " 44]"
      ]
     },
     "execution_count": 28,
     "metadata": {},
     "output_type": "execute_result"
    }
   ],
   "source": [
    "indices"
   ]
  },
  {
   "cell_type": "code",
   "execution_count": null,
   "metadata": {
    "collapsed": true
   },
   "outputs": [],
   "source": []
  }
 ],
 "metadata": {
  "kernelspec": {
   "display_name": "Python 3",
   "language": "python",
   "name": "python3"
  },
  "language_info": {
   "codemirror_mode": {
    "name": "ipython",
    "version": 3
   },
   "file_extension": ".py",
   "mimetype": "text/x-python",
   "name": "python",
   "nbconvert_exporter": "python",
   "pygments_lexer": "ipython3",
   "version": "3.6.0"
  }
 },
 "nbformat": 4,
 "nbformat_minor": 2
}
