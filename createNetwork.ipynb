{
 "cells": [
  {
   "cell_type": "code",
   "execution_count": 1,
   "metadata": {},
   "outputs": [
    {
     "name": "stdout",
     "output_type": "stream",
     "text": [
      "2.1\n"
     ]
    }
   ],
   "source": [
    "import pandas as pd\n",
    "import networkx as nx\n",
    "import numpy as np \n",
    "import json\n",
    "print(nx.__version__)\n",
    "\n",
    "import plotly.plotly as py\n",
    "from plotly.graph_objs import *\n",
    "\n",
    "from IPython.display import display"
   ]
  },
  {
   "cell_type": "code",
   "execution_count": 2,
   "metadata": {},
   "outputs": [],
   "source": [
    "def fragments_to_graph(fname, kmer=5):\n",
    "    file = pd.read_csv(fname)\n",
    "    display(file.head())\n",
    "    molecules = file['Molecule'].as_matrix()\n",
    "    starts = file['Start'].as_matrix()\n",
    "    ends = file['End'].as_matrix()\n",
    "    queries = file['Query'].as_matrix()\n",
    "    \n",
    "    kmer_dict = {}\n",
    "    \n",
    "    G = nx.DiGraph()\n",
    "    \n",
    "    for (i, molecule) in enumerate(molecules):\n",
    "        frag = molecule[starts[i]:ends[i]]\n",
    "        for j in range(starts[i],ends[i]-kmer):\n",
    "            origin = '{0}_{1}'.format(j,molecule[j:j+kmer])\n",
    "            dest = '{0}_{1}'.format(j+1,molecule[j+1:j+kmer+1])\n",
    "            \n",
    "            if (origin, dest) in G.edges():\n",
    "                data = G.get_edge_data(origin, dest)\n",
    "                G.add_edge(origin, dest, capacity=data['capacity']+1)\n",
    "            else:\n",
    "                G.add_edge(origin, dest, capacity=1)\n",
    "            \n",
    "            try: \n",
    "                kmer_dict[origin].append(dest)\n",
    "            except:\n",
    "                kmer_dict[origin] = [dest]\n",
    "    print('Created graph out of {0} molecules'.format(len(molecules)))            \n",
    "\n",
    "    return G, kmer_dict\n",
    "\n",
    "def condense(oldG):\n",
    "    \n",
    "    import copy\n",
    "    G = copy.deepcopy(oldG)\n",
    "    condense = [(None,None,None)]\n",
    "    init = True\n",
    "\n",
    "    while len(condense)!=0:\n",
    "        (origin, dest, capacity) = condense.pop()\n",
    "        if origin != None:\n",
    "            hybrid = origin+dest[-1]\n",
    "            # All edges going in to origin now go to the hybrid edge        \n",
    "            removals = []\n",
    "            for node, _, capacity in G.in_edges(origin, data='capacity'):\n",
    "                removals.append((node, capacity))\n",
    "            for (node,capacity) in removals:\n",
    "                G.remove_edge(node, origin)\n",
    "                G.add_edge(node, hybrid, capacity=capacity)   \n",
    "\n",
    "            # All edges going out of dest now come from the hybrid edge\n",
    "            removals = []\n",
    "            for _, node, capacity in G.out_edges(dest, data='capacity'):\n",
    "                removals.append((node, capacity))\n",
    "            for (node, capacity) in removals:\n",
    "                G.remove_edge(dest, node)\n",
    "                G.add_edge(hybrid, node, capacity=capacity)\n",
    "\n",
    "            # Remove edge from origin to dest\n",
    "            G.remove_edge(origin, dest)\n",
    "\n",
    "            G.remove_node(origin)\n",
    "            G.remove_node(dest)\n",
    "        for node, out_degree in G.out_degree():\n",
    "            if out_degree == 1:\n",
    "                #Condense unambiguous paths\n",
    "                dest = list(G[node])[0]\n",
    "                condense.append((node,dest,G[node][dest]))\n",
    "                break\n",
    "    return G\n",
    "\n",
    "def anchor_ends(oldG):\n",
    "    import copy\n",
    "    G = copy.deepcopy(oldG)\n",
    "    edges = []\n",
    "    for node, in_degree in G.in_degree():\n",
    "        if in_degree == 0:\n",
    "            edges.append(('SOURCE',node))\n",
    "    for node, out_degree in G.out_degree():\n",
    "        if out_degree == 0:\n",
    "            edges.append((node,'SINK'))\n",
    "    for edge in edges:\n",
    "        G.add_edge(*edge)\n",
    "\n",
    "    return G\n",
    "    \n",
    "def assembly_graph(fragments_fname, kmer=30):\n",
    "    ''' Wrapper for creating an assembly graph from sequenced fragments'''\n",
    "    \n",
    "    G, kmer_dict = fragments_to_graph(fragments_fname, kmer=kmer)\n",
    "    anchoredG = anchor_ends(G)\n",
    "    nx.write_gexf(G, \"basic_assembly_\"+fragments_fname[:-4]+'.gexf')  \n",
    "    conG = condense(G)\n",
    "    nx.write_gexf(G, \"condensed_assembly_\"+fragments_fname[:-4]+'.gexf')\n",
    "    \n",
    "    print('Saved graphs to .gexf')\n",
    "    return anchoredG, conG"
   ]
  },
  {
   "cell_type": "code",
   "execution_count": 5,
   "metadata": {},
   "outputs": [
    {
     "data": {
      "text/html": [
       "<div>\n",
       "<table border=\"1\" class=\"dataframe\">\n",
       "  <thead>\n",
       "    <tr style=\"text-align: right;\">\n",
       "      <th></th>\n",
       "      <th>Unnamed: 0</th>\n",
       "      <th>Amplicon</th>\n",
       "      <th>Query</th>\n",
       "      <th>Molecule</th>\n",
       "      <th>Start</th>\n",
       "      <th>End</th>\n",
       "      <th>count</th>\n",
       "    </tr>\n",
       "  </thead>\n",
       "  <tbody>\n",
       "    <tr>\n",
       "      <th>0</th>\n",
       "      <td>0</td>\n",
       "      <td>2</td>\n",
       "      <td>1</td>\n",
       "      <td>.................................................</td>\n",
       "      <td>261</td>\n",
       "      <td>860</td>\n",
       "      <td>1</td>\n",
       "    </tr>\n",
       "    <tr>\n",
       "      <th>1</th>\n",
       "      <td>1</td>\n",
       "      <td>8</td>\n",
       "      <td>6</td>\n",
       "      <td>0000000000000000000000000000000000000000000000...</td>\n",
       "      <td>0</td>\n",
       "      <td>578</td>\n",
       "      <td>1</td>\n",
       "    </tr>\n",
       "    <tr>\n",
       "      <th>2</th>\n",
       "      <td>2</td>\n",
       "      <td>9</td>\n",
       "      <td>7</td>\n",
       "      <td>0000000000000000000000000000000000000000000000...</td>\n",
       "      <td>0</td>\n",
       "      <td>509</td>\n",
       "      <td>1</td>\n",
       "    </tr>\n",
       "    <tr>\n",
       "      <th>3</th>\n",
       "      <td>3</td>\n",
       "      <td>11</td>\n",
       "      <td>9</td>\n",
       "      <td>0000000000000000000000000000000000000000000000...</td>\n",
       "      <td>0</td>\n",
       "      <td>534</td>\n",
       "      <td>1</td>\n",
       "    </tr>\n",
       "    <tr>\n",
       "      <th>4</th>\n",
       "      <td>4</td>\n",
       "      <td>15</td>\n",
       "      <td>11</td>\n",
       "      <td>.................................................</td>\n",
       "      <td>407</td>\n",
       "      <td>987</td>\n",
       "      <td>1</td>\n",
       "    </tr>\n",
       "  </tbody>\n",
       "</table>\n",
       "</div>"
      ],
      "text/plain": [
       "   Unnamed: 0  Amplicon  Query  \\\n",
       "0           0         2      1   \n",
       "1           1         8      6   \n",
       "2           2         9      7   \n",
       "3           3        11      9   \n",
       "4           4        15     11   \n",
       "\n",
       "                                            Molecule  Start  End  count  \n",
       "0  .................................................    261  860      1  \n",
       "1  0000000000000000000000000000000000000000000000...      0  578      1  \n",
       "2  0000000000000000000000000000000000000000000000...      0  509      1  \n",
       "3  0000000000000000000000000000000000000000000000...      0  534      1  \n",
       "4  .................................................    407  987      1  "
      ]
     },
     "metadata": {},
     "output_type": "display_data"
    },
    {
     "name": "stdout",
     "output_type": "stream",
     "text": [
      "Created graph out of 552 molecules\n",
      "Saved graphs to .gexf\n"
     ]
    }
   ],
   "source": [
    "anchoredG, conG = assembly_graph('LongTestFile_1_basevector_PCR_frag.csv',30)"
   ]
  },
  {
   "cell_type": "code",
   "execution_count": null,
   "metadata": {},
   "outputs": [],
   "source": [
    "def plot_graph(G):\n",
    "    plt.figure(figsize=(15,15))\n",
    "    edge_labels=dict([((u,v,),d)\n",
    "                     for u,v,d in G.edges(data='capacity')])\n",
    "    pos=nx.spring_layout(G)\n",
    "    nx.draw_networkx_nodes(G, pos)\n",
    "    nx.draw_networkx_edge_labels(G,pos, edge_labels=edge_labels)\n",
    "    nx.draw(G,pos,with_labels=True)\n",
    "    plt.show()\n",
    "    plt.close()\n",
    "    \n",
    "plot_graph(conG)"
   ]
  },
  {
   "cell_type": "code",
   "execution_count": null,
   "metadata": {},
   "outputs": [],
   "source": [
    "plot_graph(G)"
   ]
  },
  {
   "cell_type": "code",
   "execution_count": null,
   "metadata": {},
   "outputs": [],
   "source": [
    "flow, path = nx.algorithms.flow.maximum_flow(anchoredG, 'SOURCE','SINK')"
   ]
  },
  {
   "cell_type": "code",
   "execution_count": null,
   "metadata": {},
   "outputs": [],
   "source": [
    "path\n",
    "\n",
    "'''\n",
    "How do we reconstruct the original reads from the capacities assigned to max flow graphs?\n",
    "\n",
    "'''\n",
    "def reconstruct_reads_from_path():\n",
    "    for edge in path:\n",
    "        pass\n",
    "    "
   ]
  },
  {
   "cell_type": "code",
   "execution_count": null,
   "metadata": {},
   "outputs": [],
   "source": [
    "for origin in path:\n",
    "    weights = path[origin]\n",
    "    for dest in weights:\n",
    "        anchoredG[origin][dest]['weight']=weights[dest]"
   ]
  },
  {
   "cell_type": "code",
   "execution_count": null,
   "metadata": {},
   "outputs": [],
   "source": [
    "plot_graph(anchoredG)"
   ]
  },
  {
   "cell_type": "code",
   "execution_count": null,
   "metadata": {},
   "outputs": [],
   "source": [
    "path"
   ]
  },
  {
   "cell_type": "code",
   "execution_count": null,
   "metadata": {},
   "outputs": [],
   "source": [
    "nx.write_gexf(anchoredG, \"max_flow_assembly.gexf\")"
   ]
  },
  {
   "cell_type": "raw",
   "metadata": {},
   "source": [
    "plot_graph(anchoredG)"
   ]
  },
  {
   "cell_type": "code",
   "execution_count": null,
   "metadata": {},
   "outputs": [],
   "source": [
    "anchoredG"
   ]
  },
  {
   "cell_type": "code",
   "execution_count": null,
   "metadata": {},
   "outputs": [],
   "source": [
    "for edge in anchoredG.edges(data=True):\n",
    "    print(edge)"
   ]
  },
  {
   "cell_type": "code",
   "execution_count": null,
   "metadata": {},
   "outputs": [],
   "source": [
    "nx.write_gexf(anchoredG, \"max_flow_assembly.gexf\")"
   ]
  },
  {
   "cell_type": "code",
   "execution_count": null,
   "metadata": {},
   "outputs": [],
   "source": [
    "path = nx.algorithms.flow.max_flow_min_cost(anchoredG,'SOURCE','SINK')"
   ]
  },
  {
   "cell_type": "code",
   "execution_count": null,
   "metadata": {},
   "outputs": [],
   "source": [
    "resG = path"
   ]
  },
  {
   "cell_type": "code",
   "execution_count": null,
   "metadata": {},
   "outputs": [],
   "source": [
    "for edge in resG.edges(data=True):\n",
    "    print(edge)"
   ]
  },
  {
   "cell_type": "code",
   "execution_count": null,
   "metadata": {},
   "outputs": [],
   "source": [
    "resG"
   ]
  },
  {
   "cell_type": "code",
   "execution_count": null,
   "metadata": {},
   "outputs": [],
   "source": [
    "def reweight(G,path):\n",
    "    G = copy.deepcopy(G)\n",
    "    for origin in path:\n",
    "        weights = path[origin]\n",
    "        for dest in weights:\n",
    "            G[origin][dest]['weight']=weights[dest]\n",
    "    return G"
   ]
  },
  {
   "cell_type": "code",
   "execution_count": null,
   "metadata": {},
   "outputs": [],
   "source": [
    "nx.write_gexf(anchoredG, \"max_flow_assembly.gexf\")"
   ]
  },
  {
   "cell_type": "code",
   "execution_count": null,
   "metadata": {},
   "outputs": [],
   "source": [
    "conG = condense(anchoredG)"
   ]
  },
  {
   "cell_type": "code",
   "execution_count": null,
   "metadata": {},
   "outputs": [],
   "source": [
    "describe(G)"
   ]
  },
  {
   "cell_type": "code",
   "execution_count": null,
   "metadata": {},
   "outputs": [],
   "source": [
    "for edge in conG.edges(data=True):\n",
    "    print(edge)"
   ]
  },
  {
   "cell_type": "code",
   "execution_count": null,
   "metadata": {},
   "outputs": [],
   "source": []
  }
 ],
 "metadata": {
  "kernelspec": {
   "display_name": "Python 3",
   "language": "python",
   "name": "python3"
  },
  "language_info": {
   "codemirror_mode": {
    "name": "ipython",
    "version": 3
   },
   "file_extension": ".py",
   "mimetype": "text/x-python",
   "name": "python",
   "nbconvert_exporter": "python",
   "pygments_lexer": "ipython3",
   "version": "3.6.0"
  }
 },
 "nbformat": 4,
 "nbformat_minor": 2
}
